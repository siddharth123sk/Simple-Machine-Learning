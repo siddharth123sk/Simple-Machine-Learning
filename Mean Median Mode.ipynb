{
 "cells": [
  {
   "cell_type": "code",
   "execution_count": 1,
   "metadata": {},
   "outputs": [
    {
     "data": {
      "text/plain": [
       "26914.945250604607"
      ]
     },
     "execution_count": 1,
     "metadata": {},
     "output_type": "execute_result"
    }
   ],
   "source": [
    "import numpy as np\n",
    "\n",
    "incomes = np.random.normal(27000, 15000, 10000)\n",
    "np.mean(incomes)"
   ]
  },
  {
   "cell_type": "code",
   "execution_count": 3,
   "metadata": {},
   "outputs": [
    {
     "data": {
      "image/png": "[encoded data removed]",
      "text/plain": [
       "<Figure size 432x288 with 1 Axes>"
      ]
     },
     "metadata": {
      "needs_background": "light"
     },
     "output_type": "display_data"
    }
   ],
   "source": [
    "import matplotlib.pyplot as plt\n",
    "plt.hist(incomes, 50)\n",
    "plt.show()"
   ]
  },
  {
   "cell_type": "code",
   "execution_count": 4,
   "metadata": {},
   "outputs": [
    {
     "data": {
      "text/plain": [
       "27009.346175294137"
      ]
     },
     "execution_count": 4,
     "metadata": {},
     "output_type": "execute_result"
    }
   ],
   "source": [
    "np.median(incomes)"
   ]
  },
  {
   "cell_type": "code",
   "execution_count": 5,
   "metadata": {},
   "outputs": [],
   "source": [
    "incomes = np.append(incomes, [100000000]) #outlier"
   ]
  },
  {
   "cell_type": "code",
   "execution_count": 6,
   "metadata": {},
   "outputs": [
    {
     "data": {
      "text/plain": [
       "36911.254125192085"
      ]
     },
     "execution_count": 6,
     "metadata": {},
     "output_type": "execute_result"
    }
   ],
   "source": [
    "np.mean(incomes)"
   ]
  },
  {
   "cell_type": "code",
   "execution_count": 7,
   "metadata": {},
   "outputs": [
    {
     "data": {
      "text/plain": [
       "27011.021642060576"
      ]
     },
     "execution_count": 7,
     "metadata": {},
     "output_type": "execute_result"
    }
   ],
   "source": [
    "np.median(incomes)"
   ]
  },
  {
   "cell_type": "code",
   "execution_count": 8,
   "metadata": {},
   "outputs": [],
   "source": [
    "## mode"
   ]
  },
  {
   "cell_type": "code",
   "execution_count": 9,
   "metadata": {},
   "outputs": [
    {
     "data": {
      "text/plain": [
       "array([82, 58, 41, 25, 88, 77, 41, 66, 45, 58, 18, 62, 36, 70, 74, 20, 23,\n",
       "       55, 18, 22, 26, 39, 57, 38, 73, 87, 30, 25, 62, 69, 31, 20, 52, 54,\n",
       "       55, 33, 62, 50, 76, 19, 66, 72, 75, 56, 67, 51, 82, 32, 18, 66, 72,\n",
       "       76, 57, 43, 35, 39, 43, 87, 24, 20, 55, 51, 58, 75, 25, 43, 27, 78,\n",
       "       82, 22, 19, 25, 23, 53, 52, 88, 61, 42, 67, 74, 24, 71, 20, 39, 23,\n",
       "       44, 76, 85, 38, 46, 52, 21, 41, 34, 87, 74, 40, 57, 61, 75, 55, 65,\n",
       "       48, 89, 57, 66, 33, 40, 43, 30, 75, 54, 71, 40, 68, 24, 19, 71, 70,\n",
       "       25, 54, 71, 44, 20, 58, 50, 55, 82, 36, 52, 73, 62, 86, 58, 64, 83,\n",
       "       81, 80, 53, 89, 81, 42, 27, 31, 67, 29, 53, 86, 87, 34, 26, 47, 35,\n",
       "       70, 59, 86, 44, 24, 47, 53, 22, 77, 79, 70, 79, 57, 36, 84, 34, 39,\n",
       "       25, 23, 48, 73, 68, 63, 32, 32, 19, 36, 78, 68, 82, 76, 76, 36, 81,\n",
       "       73, 46, 55, 18, 41, 62, 88, 41, 27, 47, 26, 43, 77, 24, 34, 24, 54,\n",
       "       26, 82, 58, 43, 49, 68, 41, 63, 45, 30, 38, 60, 46, 18, 69, 77, 83,\n",
       "       73, 34, 43, 61, 44, 23, 73, 30, 49, 56, 27, 79, 75, 67, 33, 73, 42,\n",
       "       51, 29, 62, 65, 36, 50, 56, 82, 80, 73, 68, 51, 87, 50, 25, 23, 80,\n",
       "       81, 44, 37, 42, 36, 27, 53, 75, 64, 19, 83, 26, 21, 87, 18, 68, 27,\n",
       "       87, 20, 62, 60, 49, 87, 49, 52, 80, 58, 41, 40, 26, 42, 60, 45, 25,\n",
       "       79, 74, 65, 47, 19, 57, 63, 67, 44, 20, 47, 59, 67, 23, 70, 23, 77,\n",
       "       65, 58, 33, 69, 40, 66, 48, 55, 26, 56, 69, 28, 25, 62, 63, 64, 22,\n",
       "       75, 74, 75, 32, 56, 63, 53, 44, 25, 49, 28, 78, 18, 32, 78, 33, 52,\n",
       "       50, 32, 38, 38, 72, 76, 47, 56, 81, 29, 35, 89, 24, 45, 87, 27, 65,\n",
       "       70, 31, 26, 28, 60, 69, 84, 49, 58, 62, 78, 84, 75, 76, 26, 51, 44,\n",
       "       57, 46, 72, 21, 81, 38, 51, 67, 36, 18, 66, 20, 52, 72, 88, 30, 42,\n",
       "       81, 82, 53, 19, 77, 73, 49, 34, 62, 54, 34, 31, 53, 40, 68, 61, 29,\n",
       "       70, 34, 40, 44, 67, 38, 24, 82, 46, 34, 76, 27, 53, 42, 75, 87, 42,\n",
       "       86, 52, 75, 44, 47, 41, 81, 34, 37, 65, 50, 83, 36, 57, 73, 67, 74,\n",
       "       81, 71, 26, 58, 27, 29, 25, 80, 61, 31, 62, 48, 22, 21, 29, 43, 77,\n",
       "       39, 58, 62, 29, 67, 73, 27, 42, 27, 80, 19, 27, 50, 72, 42, 89, 18,\n",
       "       24, 54, 70, 22, 21, 42, 58, 23, 21, 89, 45, 75, 81, 31, 58, 77, 56,\n",
       "       49, 33, 32, 28, 58, 34, 23])"
      ]
     },
     "execution_count": 9,
     "metadata": {},
     "output_type": "execute_result"
    }
   ],
   "source": [
    "ages = np.random.randint(18, high = 90, size = 500)\n",
    "ages"
   ]
  },
  {
   "cell_type": "code",
   "execution_count": 10,
   "metadata": {},
   "outputs": [
    {
     "data": {
      "text/plain": [
       "ModeResult(mode=array([58]), count=array([14]))"
      ]
     },
     "execution_count": 10,
     "metadata": {},
     "output_type": "execute_result"
    }
   ],
   "source": [
    "from scipy import stats\n",
    "stats.mode(ages)"
   ]
  },
  {
   "cell_type": "code",
   "execution_count": null,
   "metadata": {},
   "outputs": [],
   "source": []
  }
 ],
 "metadata": {
  "kernelspec": {
   "display_name": "Python 3",
   "language": "python",
   "name": "python3"
  },
  "language_info": {
   "codemirror_mode": {
    "name": "ipython",
    "version": 3
   },
   "file_extension": ".py",
   "mimetype": "text/x-python",
   "name": "python",
   "nbconvert_exporter": "python",
   "pygments_lexer": "ipython3",
   "version": "3.7.4"
  }
 },
 "nbformat": 4,
 "nbformat_minor": 2
}
