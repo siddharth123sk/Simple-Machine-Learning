{
 "cells": [
  {
   "cell_type": "code",
   "execution_count": 4,
   "metadata": {},
   "outputs": [],
   "source": [
    "import tensorflow"
   ]
  },
  {
   "cell_type": "code",
   "execution_count": 5,
   "metadata": {},
   "outputs": [],
   "source": [
    "import torch"
   ]
  },
  {
   "cell_type": "code",
   "execution_count": 6,
   "metadata": {},
   "outputs": [],
   "source": [
    "import torchvision"
   ]
  },
  {
   "cell_type": "code",
   "execution_count": 61,
   "metadata": {},
   "outputs": [
    {
     "name": "stdout",
     "output_type": "stream",
     "text": [
      "False\n"
     ]
    }
   ],
   "source": [
    "print(torch.cuda.is_available())"
   ]
  },
  {
   "cell_type": "code",
   "execution_count": 9,
   "metadata": {},
   "outputs": [
    {
     "name": "stdout",
     "output_type": "stream",
     "text": [
      "tensor([2, 2, 1])\n"
     ]
    }
   ],
   "source": [
    "a = torch.tensor([2,2,1])\n",
    "print(a)"
   ]
  },
  {
   "cell_type": "code",
   "execution_count": 11,
   "metadata": {},
   "outputs": [
    {
     "name": "stdout",
     "output_type": "stream",
     "text": [
      "tensor([[2, 1, 4],\n",
      "        [3, 5, 4],\n",
      "        [1, 2, 0],\n",
      "        [4, 3, 2]])\n"
     ]
    }
   ],
   "source": [
    "b = torch.tensor([[2,1,4], [3,5,4], [1,2,0], [4,3,2]])\n",
    "print(b)"
   ]
  },
  {
   "cell_type": "code",
   "execution_count": 12,
   "metadata": {},
   "outputs": [
    {
     "name": "stdout",
     "output_type": "stream",
     "text": [
      "torch.Size([3])\n",
      "torch.Size([4, 3])\n",
      "torch.Size([3])\n",
      "torch.Size([4, 3])\n"
     ]
    }
   ],
   "source": [
    "print(a.shape)\n",
    "print(b.shape)\n",
    "print(a.size())\n",
    "print(b.size())"
   ]
  },
  {
   "cell_type": "code",
   "execution_count": 13,
   "metadata": {},
   "outputs": [
    {
     "name": "stdout",
     "output_type": "stream",
     "text": [
      "4\n"
     ]
    }
   ],
   "source": [
    "print(b.shape[0])"
   ]
  },
  {
   "cell_type": "code",
   "execution_count": 19,
   "metadata": {},
   "outputs": [],
   "source": [
    "c = torch.FloatTensor([[2,1,4], [3,5,4], [1,2,0], [4,3,2]])"
   ]
  },
  {
   "cell_type": "code",
   "execution_count": 20,
   "metadata": {},
   "outputs": [],
   "source": [
    "d = torch.DoubleTensor([[2,1,4], [3,5,4], [1,2,0], [4,3,2]])"
   ]
  },
  {
   "cell_type": "code",
   "execution_count": 21,
   "metadata": {},
   "outputs": [
    {
     "name": "stdout",
     "output_type": "stream",
     "text": [
      "tensor([[2., 1., 4.],\n",
      "        [3., 5., 4.],\n",
      "        [1., 2., 0.],\n",
      "        [4., 3., 2.]])\n",
      "torch.float32\n"
     ]
    }
   ],
   "source": [
    "print(c)\n",
    "print(c.dtype)"
   ]
  },
  {
   "cell_type": "code",
   "execution_count": 22,
   "metadata": {},
   "outputs": [
    {
     "name": "stdout",
     "output_type": "stream",
     "text": [
      "tensor([[2., 1., 4.],\n",
      "        [3., 5., 4.],\n",
      "        [1., 2., 0.],\n",
      "        [4., 3., 2.]], dtype=torch.float64)\n",
      "torch.float64\n"
     ]
    }
   ],
   "source": [
    "print(d)\n",
    "print(d.dtype)"
   ]
  },
  {
   "cell_type": "code",
   "execution_count": 23,
   "metadata": {},
   "outputs": [
    {
     "name": "stdout",
     "output_type": "stream",
     "text": [
      "tensor(2.5833)\n"
     ]
    }
   ],
   "source": [
    "print(c.mean())"
   ]
  },
  {
   "cell_type": "code",
   "execution_count": 24,
   "metadata": {},
   "outputs": [
    {
     "name": "stdout",
     "output_type": "stream",
     "text": [
      "tensor(2.5833, dtype=torch.float64)\n"
     ]
    }
   ],
   "source": [
    "print(d.mean())"
   ]
  },
  {
   "cell_type": "code",
   "execution_count": 25,
   "metadata": {},
   "outputs": [
    {
     "name": "stdout",
     "output_type": "stream",
     "text": [
      "tensor(1.5050)\n"
     ]
    }
   ],
   "source": [
    "print(c.std())"
   ]
  },
  {
   "cell_type": "code",
   "execution_count": 26,
   "metadata": {},
   "outputs": [
    {
     "name": "stdout",
     "output_type": "stream",
     "text": [
      "tensor(1.5050, dtype=torch.float64)\n"
     ]
    }
   ],
   "source": [
    "print(d.std())"
   ]
  },
  {
   "cell_type": "code",
   "execution_count": 31,
   "metadata": {},
   "outputs": [
    {
     "name": "stdout",
     "output_type": "stream",
     "text": [
      "tensor([[2],\n",
      "        [1],\n",
      "        [4],\n",
      "        [3],\n",
      "        [5],\n",
      "        [4],\n",
      "        [1],\n",
      "        [2],\n",
      "        [0],\n",
      "        [4],\n",
      "        [3],\n",
      "        [2]])\n",
      "tensor([2, 1, 4, 3, 5, 4, 1, 2, 0, 4, 3, 2])\n",
      "tensor([[2, 1, 4, 3],\n",
      "        [5, 4, 1, 2],\n",
      "        [0, 4, 3, 2]])\n",
      "tensor([[2, 1, 4, 3],\n",
      "        [5, 4, 1, 2],\n",
      "        [0, 4, 3, 2]])\n",
      "tensor([[2, 1, 4, 3, 5, 4, 1, 2, 0, 4, 3, 2]])\n",
      "torch.Size([1, 12])\n",
      "\n",
      "\n",
      "\n",
      "\n",
      "tensor([[[ 1.4943, -1.7196,  0.0774,  0.7187],\n",
      "         [ 0.2476, -0.4106, -0.4354,  0.7350],\n",
      "         [ 0.3504,  1.4204, -1.4171,  0.3064]],\n",
      "\n",
      "        [[ 0.7466, -0.5738,  0.0405, -0.2231],\n",
      "         [ 1.9999, -0.1626, -1.4640, -0.5141],\n",
      "         [-0.6642,  0.0606, -1.3082, -2.3458]]])\n",
      "tensor([[ 1.4943, -1.7196,  0.0774,  0.7187,  0.2476, -0.4106, -0.4354,  0.7350,\n",
      "          0.3504,  1.4204, -1.4171,  0.3064],\n",
      "        [ 0.7466, -0.5738,  0.0405, -0.2231,  1.9999, -0.1626, -1.4640, -0.5141,\n",
      "         -0.6642,  0.0606, -1.3082, -2.3458]])\n",
      "tensor([[ 1.4943, -1.7196,  0.0774,  0.7187,  0.2476, -0.4106, -0.4354,  0.7350,\n",
      "          0.3504,  1.4204, -1.4171,  0.3064],\n",
      "        [ 0.7466, -0.5738,  0.0405, -0.2231,  1.9999, -0.1626, -1.4640, -0.5141,\n",
      "         -0.6642,  0.0606, -1.3082, -2.3458]])\n"
     ]
    }
   ],
   "source": [
    "print(b.view(-1,1))\n",
    "print(b.view(12))\n",
    "print(b.view(-1,4))\n",
    "print(b.view(3,4))\n",
    "\n",
    "b = b.view(1, -1)\n",
    "print(b)\n",
    "print(b.shape)\n",
    "print('\\n')\n",
    "\n",
    "three_dim = torch.randn(2, 3, 4)\n",
    "print('\\n')\n",
    "\n",
    "print(three_dim)\n",
    "print(three_dim.view(2, 12))\n",
    "print(three_dim.view(2, -1))"
   ]
  },
  {
   "cell_type": "code",
   "execution_count": 33,
   "metadata": {},
   "outputs": [
    {
     "name": "stdout",
     "output_type": "stream",
     "text": [
      "tensor([[0.2980, 0.4337, 0.3914, 0.6383],\n",
      "        [0.1221, 0.7610, 0.4714, 0.1293],\n",
      "        [0.6512, 0.1889, 0.2051, 0.3956],\n",
      "        [0.4022, 0.8676, 0.7527, 0.3445]])\n"
     ]
    }
   ],
   "source": [
    "r = torch.rand(4,4)\n",
    "print(r)"
   ]
  },
  {
   "cell_type": "code",
   "execution_count": 34,
   "metadata": {},
   "outputs": [
    {
     "name": "stdout",
     "output_type": "stream",
     "text": [
      "tensor([[-0.8041,  0.1807,  1.0576, -0.0981],\n",
      "        [ 0.0382,  0.7090, -1.1765, -0.2994],\n",
      "        [-0.3966,  1.1556, -0.0567, -1.5909],\n",
      "        [-2.0137, -1.2230,  0.0558,  1.1616]])\n",
      "torch.float32\n"
     ]
    }
   ],
   "source": [
    "r2 = torch.randn(4,4)\n",
    "print(r2)\n",
    "print(r2.dtype)"
   ]
  },
  {
   "cell_type": "code",
   "execution_count": 47,
   "metadata": {},
   "outputs": [
    {
     "name": "stdout",
     "output_type": "stream",
     "text": [
      "tensor([ 6, 12,  6,  6,  6])\n",
      "torch.int64\n"
     ]
    }
   ],
   "source": [
    "in_array = torch.randint(6,20, (5,))\n",
    "print(in_array)\n",
    "print(in_array.dtype)"
   ]
  },
  {
   "cell_type": "code",
   "execution_count": 55,
   "metadata": {},
   "outputs": [
    {
     "name": "stdout",
     "output_type": "stream",
     "text": [
      "tensor([[6, 9, 6],\n",
      "        [6, 6, 9],\n",
      "        [8, 7, 9]])\n"
     ]
    }
   ],
   "source": [
    "in_array2 = torch.randint(6, 10, (3,3))\n",
    "print(in_array2)"
   ]
  },
  {
   "cell_type": "code",
   "execution_count": 56,
   "metadata": {},
   "outputs": [
    {
     "name": "stdout",
     "output_type": "stream",
     "text": [
      "5\n",
      "9\n"
     ]
    }
   ],
   "source": [
    "print(torch.numel(in_array))\n",
    "\n",
    "print(torch.numel(in_array2))"
   ]
  },
  {
   "cell_type": "code",
   "execution_count": 43,
   "metadata": {},
   "outputs": [
    {
     "name": "stdout",
     "output_type": "stream",
     "text": [
      "tensor([[0, 0, 0],\n",
      "        [0, 0, 0],\n",
      "        [0, 0, 0]])\n",
      "tensor([[1., 1., 1.],\n",
      "        [1., 1., 1.],\n",
      "        [1., 1., 1.]])\n",
      "torch.float32\n"
     ]
    }
   ],
   "source": [
    "z = torch.zeros(3, 3, dtype = torch.long)\n",
    "print(z)\n",
    "\n",
    "o = torch.ones(3,3)\n",
    "print(o)\n",
    "print(o.dtype)"
   ]
  },
  {
   "cell_type": "code",
   "execution_count": 57,
   "metadata": {},
   "outputs": [
    {
     "name": "stdout",
     "output_type": "stream",
     "text": [
      "tensor([[ 0.1653, -0.4092, -0.1305,  0.7388],\n",
      "        [ 2.1375,  1.0139, -0.5269, -1.0579],\n",
      "        [-0.3843,  0.1692,  0.1619,  0.6173],\n",
      "        [ 0.1676, -1.5023,  0.6990,  0.0188]], dtype=torch.float64)\n"
     ]
    }
   ],
   "source": [
    "r2_like = torch.randn_like(r2, dtype = torch.double)\n",
    "print(r2_like)"
   ]
  },
  {
   "cell_type": "code",
   "execution_count": 58,
   "metadata": {},
   "outputs": [
    {
     "name": "stdout",
     "output_type": "stream",
     "text": [
      "tensor([[-0.5061,  0.6144,  1.4490,  0.5402],\n",
      "        [ 0.1603,  1.4700, -0.7051, -0.1701],\n",
      "        [ 0.2547,  1.3445,  0.1484, -1.1953],\n",
      "        [-1.6115, -0.3555,  0.8085,  1.5062]])\n"
     ]
    }
   ],
   "source": [
    "add_result = torch.add(r, r2)\n",
    "print(add_result)"
   ]
  },
  {
   "cell_type": "code",
   "execution_count": 59,
   "metadata": {},
   "outputs": [
    {
     "name": "stdout",
     "output_type": "stream",
     "text": [
      "tensor([[-0.5061,  0.6144,  1.4490,  0.5402],\n",
      "        [ 0.1603,  1.4700, -0.7051, -0.1701],\n",
      "        [ 0.2547,  1.3445,  0.1484, -1.1953],\n",
      "        [-1.6115, -0.3555,  0.8085,  1.5062]])\n"
     ]
    }
   ],
   "source": [
    "r2.add_(r)\n",
    "print(r2)"
   ]
  },
  {
   "cell_type": "code",
   "execution_count": 60,
   "metadata": {},
   "outputs": [
    {
     "name": "stdout",
     "output_type": "stream",
     "text": [
      "tensor([ 0.6144,  1.4700,  1.3445, -0.3555])\n",
      "tensor([[-0.5061,  0.6144],\n",
      "        [ 0.1603,  1.4700],\n",
      "        [ 0.2547,  1.3445],\n",
      "        [-1.6115, -0.3555]])\n",
      "tensor([[-0.5061,  0.6144,  1.4490,  0.5402],\n",
      "        [ 0.1603,  1.4700, -0.7051, -0.1701],\n",
      "        [ 0.2547,  1.3445,  0.1484, -1.1953]])\n",
      "tensor(-1.1953)\n",
      "-1.1952571868896484\n",
      "tensor([ 0.2547,  1.3445,  0.1484, -1.1953])\n"
     ]
    }
   ],
   "source": [
    "print(r2[:,1])\n",
    "print(r2[:, :2])\n",
    "print(r2[:3,:])\n",
    "num_ten = r2[2,3]\n",
    "print(num_ten)\n",
    "print(num_ten.item())\n",
    "print(r2[2, :])"
   ]
  },
  {
   "cell_type": "code",
   "execution_count": null,
   "metadata": {},
   "outputs": [],
   "source": []
  }
 ],
 "metadata": {
  "kernelspec": {
   "display_name": "Python 3",
   "language": "python",
   "name": "python3"
  },
  "language_info": {
   "codemirror_mode": {
    "name": "ipython",
    "version": 3
   },
   "file_extension": ".py",
   "mimetype": "text/x-python",
   "name": "python",
   "nbconvert_exporter": "python",
   "pygments_lexer": "ipython3",
   "version": "3.7.4"
  }
 },
 "nbformat": 4,
 "nbformat_minor": 2
}
